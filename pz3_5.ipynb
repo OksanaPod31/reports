{
  "nbformat": 4,
  "nbformat_minor": 0,
  "metadata": {
    "colab": {
      "name": "pz3_5.ipynb",
      "provenance": [],
      "authorship_tag": "ABX9TyNuR6HiY1Gh7oY4WootlLli",
      "include_colab_link": true
    },
    "kernelspec": {
      "name": "python3",
      "display_name": "Python 3"
    },
    "language_info": {
      "name": "python"
    }
  },
  "cells": [
    {
      "cell_type": "markdown",
      "metadata": {
        "id": "view-in-github",
        "colab_type": "text"
      },
      "source": [
        "<a href=\"https://colab.research.google.com/github/OksanaPod31/reports/blob/main/pz3_5.ipynb\" target=\"_parent\"><img src=\"https://colab.research.google.com/assets/colab-badge.svg\" alt=\"Open In Colab\"/></a>"
      ]
    },
    {
      "cell_type": "code",
      "execution_count": null,
      "metadata": {
        "colab": {
          "base_uri": "https://localhost:8080/"
        },
        "id": "wGyndQaFG0KE",
        "outputId": "be070a09-3ffe-40fa-85d5-7d9121693b63"
      },
      "outputs": [
        {
          "output_type": "stream",
          "name": "stdout",
          "text": [
            "Введите целое положительное число: 5\n",
            "Ваше число не соответствует высказыванию:\"Данное число является нечётным трёхзначным\"\n"
          ]
        }
      ],
      "source": [
        "# Дано целое положительное число. Проверить истинность высказывания: \"Данное число является нечётным трёхзначным\".\n",
        "n = input('Введите целое положительное число: ')\n",
        "\n",
        "while type(n) != int:  # Обработка исключений\n",
        "    try:\n",
        "        n = int(n)\n",
        "        if 99 < n < 1000 and n % 2 != 0:\n",
        "            print('Ваше число является трёхзначным и нечётным!')\n",
        "        else:\n",
        "            print('Ваше число не соответствует высказыванию:\"Данное число является нечётным трёхзначным\"')\n",
        "    except ValueError:\n",
        "        print('Ввели не то!!')\n",
        "        n = input('Введите целое положительное число ещё раз: ')\n"
      ]
    },
    {
      "cell_type": "code",
      "source": [
        "# Дано вещественное число X и целое число N (> 0). Найти значение выражения 1 + X + X2/(2!) + ... + XN/(N!)\n",
        "# (N! = 1*2 ...N). Полученное число является приближенным значением функции exp в точке X.\n",
        "\n",
        "plus = 0\n",
        "i = 0\n",
        "s = 1\n",
        "c = 0\n",
        "\n",
        "x = input('Введите вещественное число: ')\n",
        "while type(x) != float:  # Обработка исключений\n",
        "    try:\n",
        "        x = float(x)\n",
        "    except ValueError:\n",
        "        print('Ввели неправильно!')\n",
        "        x = input('Введите вещественное число: ')\n",
        "\n",
        "n = input('Введите целое число: ')\n",
        "while type(n) != int:  # Обработка исключений\n",
        "    try:\n",
        "        n = int(n)\n",
        "    except ValueError:\n",
        "        print('Ввели неправильно!')\n",
        "        n = input('Введите целое число: ')\n",
        "\n",
        "\n",
        "while i != n:\n",
        "    k = i\n",
        "    while k:\n",
        "        s *= k\n",
        "        k -= 1\n",
        "    c += 1\n",
        "    vir = (x**c)/s  # Выражение X + X2/(2!) + ... + XN/(N!)\n",
        "    plus += vir\n",
        "    i += 1\n",
        "    s += 1\n",
        "plus += 1\n",
        "\n",
        "print('Значение выражения равно: ', plus)"
      ],
      "metadata": {
        "colab": {
          "base_uri": "https://localhost:8080/"
        },
        "id": "gul9QmxNHGvV",
        "outputId": "ae7e7f57-6d6d-4db3-82ce-9ce27be602b1"
      },
      "execution_count": null,
      "outputs": [
        {
          "output_type": "stream",
          "name": "stdout",
          "text": [
            "Введите вещественное число: 4.3\n",
            "Введите целое число: 4\n",
            "Значение выражения равно:  35.936169047619046\n"
          ]
        }
      ]
    },
    {
      "cell_type": "code",
      "source": [
        "# Составить программу, в которой функция генерирует четырёхзначное число и определяет, есть ли в числе одинаковые цифры.\n",
        "import random\n",
        "\n",
        "\n",
        "def action():\n",
        "    n = random.randrange(1000, 9999, 1)  # Генерация рандомного четрёхзначного числа\n",
        "    print('Сгенерированное число: ', n)\n",
        "    c = n % 10\n",
        "    b = (n % 100) // 10\n",
        "    a = (n % 1000) // 100\n",
        "    f = n // 1000\n",
        "    if c == b or c == a or c == f or b == a or b == f or a == f:\n",
        "        print('В сгенерированном числе есть одинаковые цифры')\n",
        "    else:\n",
        "        print('В сгенерированном числе нет одинаковых цифр')\n",
        "\n",
        "\n",
        "action()  # Вызов функции"
      ],
      "metadata": {
        "colab": {
          "base_uri": "https://localhost:8080/"
        },
        "id": "dLr7XPniHK2O",
        "outputId": "0bc989f6-0a49-4b42-cec3-be7d837668d7"
      },
      "execution_count": null,
      "outputs": [
        {
          "output_type": "stream",
          "name": "stdout",
          "text": [
            "Сгенерированное число:  6427\n",
            "В сгенерированном числе нет одинаковых цифр\n"
          ]
        }
      ]
    }
  ]
}